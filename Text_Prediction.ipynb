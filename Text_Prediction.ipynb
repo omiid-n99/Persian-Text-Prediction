{
  "cells": [
    {
      "cell_type": "markdown",
      "metadata": {
        "id": "view-in-github",
        "colab_type": "text"
      },
      "source": [
        "<a href=\"https://colab.research.google.com/github/omiid-n99/Persian-Text-Prediction/blob/main/Text_Prediction.ipynb\" target=\"_parent\"><img src=\"https://colab.research.google.com/assets/colab-badge.svg\" alt=\"Open In Colab\"/></a>"
      ]
    },
    {
      "cell_type": "code",
      "execution_count": null,
      "metadata": {
        "id": "8U83G7eTkSF0"
      },
      "outputs": [],
      "source": [
        "import pandas as pd\n",
        "import numpy as np\n",
        "from tensorflow.keras.preprocessing.text import Tokenizer\n",
        "from tensorflow.keras.preprocessing.sequence import pad_sequences\n",
        "from tensorflow.keras.utils import to_categorical\n",
        "from tensorflow.keras.models import Sequential\n",
        "from tensorflow.keras.layers import Dense, LSTM, Embedding, SimpleRNN, GRU\n",
        "from tensorflow.keras.callbacks import EarlyStopping\n",
        "# !pip install hazm\n",
        "from hazm import *\n",
        "import re\n",
        "from google.colab import drive\n",
        "\n",
        "# Constants\n",
        "TEXT_CLEANING_RE = r\"[^آ-ی]\"\n",
        "DATASET_ENCODING = \"utf-8\""
      ]
    },
    {
      "cell_type": "code",
      "execution_count": null,
      "metadata": {
        "id": "uK6PJnJbkUow"
      },
      "outputs": [],
      "source": [
        "# Load and preprocess the dataset\n",
        "def load_dataset(file_path):\n",
        "    # Load dataset\n",
        "    drive.mount('/content/drive')\n",
        "    df = pd.read_csv(file_path,encoding =DATASET_ENCODING)\n",
        "    df['text'].apply(preprocess_text)\n",
        "    return df"
      ]
    },
    {
      "cell_type": "code",
      "execution_count": null,
      "metadata": {
        "id": "LgZhjlT9kXsH"
      },
      "outputs": [],
      "source": [
        "# Preprocess text\n",
        "def preprocess_text(text):\n",
        "    text = text.replace('.', ' ')\n",
        "    text = text.replace('ي', 'ی').replace('ك', 'ک')\n",
        "    text = text.replace(\"-\",\"\")\n",
        "    text = text.replace('(', ' ')\n",
        "    text = text.replace(')', ' ')\n",
        "    text = text.replace(\"«\",\" \")\n",
        "    text = text.replace(\"»\",\" \")\n",
        "\n",
        "    cleaned_text = re.sub(TEXT_CLEANING_RE, \" \", text)\n",
        "    return cleaned_text"
      ]
    },
    {
      "cell_type": "code",
      "source": [
        "def get_sequence_of_tokens(tokens):\n",
        "  input_sequences = []\n",
        "  output_sequences = []\n",
        "\n",
        "  for seq in tokens:\n",
        "    for i in range(1, len(seq)):\n",
        "        input_sequences.append(seq[:i])\n",
        "        output_sequences.append(seq[i])\n",
        "  return input_sequences, output_sequences"
      ],
      "metadata": {
        "id": "Iji8WP4lzoqo"
      },
      "execution_count": null,
      "outputs": []
    },
    {
      "cell_type": "code",
      "execution_count": null,
      "metadata": {
        "colab": {
          "base_uri": "https://localhost:8080/"
        },
        "id": "38AxWYb9kgRO",
        "outputId": "3b1a9d1a-0d48-40b2-d4fe-a5203028cc73"
      },
      "outputs": [
        {
          "output_type": "stream",
          "name": "stdout",
          "text": [
            "Mounted at /content/drive\n"
          ]
        }
      ],
      "source": [
        "# Load the dataset\n",
        "df = load_dataset('/content/drive/My Drive/RNN Project/part_1.csv')"
      ]
    },
    {
      "cell_type": "code",
      "execution_count": null,
      "metadata": {
        "id": "YH-uRJe9kh2Q"
      },
      "outputs": [],
      "source": [
        "# Create a tokenizer\n",
        "tokenizer = Tokenizer()\n",
        "tokenizer.fit_on_texts(df['text'])\n",
        "word_index = tokenizer.word_index\n",
        "total_words = len(word_index) + 1\n"
      ]
    },
    {
      "cell_type": "code",
      "execution_count": null,
      "metadata": {
        "id": "GhwMYM3wklbr"
      },
      "outputs": [],
      "source": [
        "# Maximum sequence length\n",
        "max_sequence_length = max([len(x.split()) for x in df['text']])\n",
        "\n",
        "# Tokenize and pad the text sequences\n",
        "sequences = tokenizer.texts_to_sequences(df['text'])\n",
        "padded_sequences = pad_sequences(sequences, maxlen=max_sequence_length, padding='post')"
      ]
    },
    {
      "cell_type": "code",
      "source": [
        "# Create training data\n",
        "input_sequences, output_sequences = get_sequence_of_tokens(sequences)\n",
        "\n",
        "x_train = pad_sequences(input_sequences, maxlen=max_sequence_length-1)\n",
        "y_train = to_categorical(output_sequences, num_classes=total_words)"
      ],
      "metadata": {
        "id": "imRqTB5MM-3B"
      },
      "execution_count": null,
      "outputs": []
    },
    {
      "cell_type": "code",
      "execution_count": null,
      "metadata": {
        "id": "CiaiL8BqknQH"
      },
      "outputs": [],
      "source": [
        "# Create the model\n",
        "model = Sequential()\n",
        "model.add(Embedding(total_words, 64, input_length=max_sequence_length - 1))\n",
        "model.add(LSTM(128))\n",
        "# model.add(GRU(64, activation=\"tanh\"))\n",
        "model.add(Dense(total_words, activation='softmax'))"
      ]
    },
    {
      "cell_type": "code",
      "source": [
        "# Compile the model\n",
        "model.compile(loss='categorical_crossentropy', optimizer='adam', metrics=['accuracy'])\n"
      ],
      "metadata": {
        "id": "eYDGsmstPEUk"
      },
      "execution_count": null,
      "outputs": []
    },
    {
      "cell_type": "code",
      "source": [
        "# Define early stopping\n",
        "early_stop = EarlyStopping(monitor='val_loss', patience=3, restore_best_weights=True)\n"
      ],
      "metadata": {
        "id": "2yY6xDy4PF58"
      },
      "execution_count": null,
      "outputs": []
    },
    {
      "cell_type": "code",
      "execution_count": null,
      "metadata": {
        "id": "vOOC9kkykpld",
        "colab": {
          "base_uri": "https://localhost:8080/"
        },
        "outputId": "4b4fd29a-4c17-47ca-dc4d-6605e1dc8f42"
      },
      "outputs": [
        {
          "output_type": "stream",
          "name": "stdout",
          "text": [
            "Epoch 1/20\n"
          ]
        }
      ],
      "source": [
        "# Train the model\n",
        "# model.fit(x_train, y_train, validation_split=0.2, epochs=10, batch_size=32, callbacks=[early_stop])\n",
        "\n",
        "model.fit(x_train, y_train, validation_split=0.2, epochs=20, batch_size=32, verbose=1)"
      ]
    },
    {
      "cell_type": "code",
      "execution_count": null,
      "metadata": {
        "id": "ysN7v-plktxp"
      },
      "outputs": [],
      "source": [
        "def predict_next_words(model, tokenizer, max_sequence_length, text, num_words=1):\n",
        "    # Preprocess the input text\n",
        "    cleaned_text = preprocess_text(text)\n",
        "\n",
        "    # Tokenize and pad the preprocessed text\n",
        "    text_tokenized = tokenizer.texts_to_sequences([cleaned_text])\n",
        "    text_padded = pad_sequences(text_tokenized, maxlen=max_sequence_length - 1, padding='post')\n",
        "\n",
        "    # Predict the label\n",
        "    prediction = model.predict(text_padded)\n",
        "\n",
        "    # Get the indices of the top predicted words\n",
        "    top_indices = np.argsort(prediction[0])[-num_words:]\n",
        "\n",
        "    # Convert the predicted word indices back to words\n",
        "    predicted_words = [tokenizer.index_word.get(idx, '') for idx in top_indices]\n",
        "\n",
        "    return predicted_words\n",
        "\n",
        "# User input function\n",
        "def user_input(model, tokenizer, max_sequence_length):\n",
        "    while True:\n",
        "        text = input(\"Enter a broken sentence (type 'q' to quit): \")\n",
        "        if text == 'q':\n",
        "            break\n",
        "        num_words = int(input(\"Enter the number of words to predict: \"))\n",
        "        predicted_words = predict_next_words(model, tokenizer, max_sequence_length, text, num_words)\n",
        "\n",
        "        # Combine the input sentence with the predicted words to form a complete sentence\n",
        "        completed_sentence = text + ' ' + ' '.join(predicted_words)\n",
        "        print(\"Completed Sentence:\", completed_sentence)\n",
        "\n",
        "# Start user input loop\n",
        "user_input(model, tokenizer, max_sequence_length)\n",
        "\n",
        "\n",
        "# def generate_sequence(model, tokenizer, max_sequence_length, seed_text, sequence_length):\n",
        "#     # Preprocess the seed text\n",
        "#     cleaned_text = preprocess_text(seed_text)\n",
        "\n",
        "#     # Tokenize and pad the preprocessed text\n",
        "#     seed_tokenized = tokenizer.texts_to_sequences([cleaned_text])\n",
        "#     seed_padded = pad_sequences(seed_tokenized, maxlen=max_sequence_length - 1, padding='post')\n",
        "\n",
        "#     generated_sequence = seed_padded.copy()\n",
        "\n",
        "#     for _ in range(sequence_length):\n",
        "#         # Predict the next word\n",
        "#         prediction = model.predict(seed_padded)\n",
        "#         predicted_word_idx = np.argmax(prediction[0])\n",
        "\n",
        "#         # Append the predicted word index to the generated sequence\n",
        "#         generated_sequence[0][-1] = predicted_word_idx\n",
        "\n",
        "#         # Update the seed for the next iteration\n",
        "#         seed_padded = generated_sequence\n",
        "\n",
        "#     # Convert the generated sequence back to text\n",
        "#     generated_text = ' '.join(tokenizer.index_word.get(idx, '') for idx in generated_sequence[0])\n",
        "#     return generated_text\n",
        "\n",
        "# def user_input(model, tokenizer, max_sequence_length):\n",
        "#     while True:\n",
        "#         text = input(\"Enter a seed text (type 'q' to quit): \")\n",
        "#         if text == 'q':\n",
        "#             break\n",
        "#         sequence_length = int(input(\"Enter the number of sequence length: \"))\n",
        "#         generated_sequence = generate_sequence(model, tokenizer, max_sequence_length, text, sequence_length)\n",
        "#         print(\"Generated Sequence:\", generated_sequence)\n",
        "\n",
        "# # Example usage:\n",
        "# user_input(model, tokenizer, max_sequence_length)\n"
      ]
    }
  ],
  "metadata": {
    "colab": {
      "provenance": [],
      "gpuType": "T4",
      "include_colab_link": true
    },
    "kernelspec": {
      "display_name": "Python 3",
      "name": "python3"
    },
    "language_info": {
      "name": "python"
    },
    "accelerator": "GPU"
  },
  "nbformat": 4,
  "nbformat_minor": 0
}